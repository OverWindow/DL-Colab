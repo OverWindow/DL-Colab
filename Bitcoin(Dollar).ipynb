{
  "nbformat": 4,
  "nbformat_minor": 0,
  "metadata": {
    "colab": {
      "provenance": []
    },
    "kernelspec": {
      "name": "python3",
      "display_name": "Python 3"
    },
    "language_info": {
      "name": "python"
    }
  },
  "cells": [
    {
      "cell_type": "markdown",
      "source": [
        "# 텀 프로젝트 스핀오프 <비트코인을 예측해보아요>\n",
        "\n",
        "그렇다면 이번엔 진짜로 비트코인 예측을 해봐야지 않겠는가?\n",
        "지난 30일간의 시가,종가,고가,저가,변동률의 데이터로 오늘의 종가를 예측해주는 딥러닝 모델을 만들어보자. 여기서 쓸 모델은 RNN중 LSTM을 쓸 것이다.\n",
        "\n",
        "참고로 이 코드는 내가 노트북밖에 없는 관계로 코랩으로 테스팅 되었다.(내 노트북은 학습하는데 하루종일 걸리는 것 같아서 코랩으로 했다.) 고로 로컬로는 에러가 날 수 있으니 유의바란다. 웬만하면 괜찮을 것이다.\n",
        "\n",
        "필요한 라이브러리는 pandas, numpy, matplotlib, keras 이다\n",
        "\n",
        "바로 아래 코드는 코랩에서 비트코인 데이터 파일을 불러오는 코드임으로 신경 쓰지 않아도 괜찮다."
      ],
      "metadata": {
        "id": "GSSi8-sqXAcN"
      }
    },
    {
      "cell_type": "code",
      "execution_count": null,
      "metadata": {
        "colab": {
          "base_uri": "https://localhost:8080/",
          "height": 76
        },
        "id": "9oXAQ2VpIymd",
        "outputId": "863b7ff3-3cbb-4096-c1a5-7683e09778ca"
      },
      "outputs": [
        {
          "output_type": "display_data",
          "data": {
            "text/plain": [
              "<IPython.core.display.HTML object>"
            ],
            "text/html": [
              "\n",
              "     <input type=\"file\" id=\"files-0b575cbf-c4dd-4383-a6c0-bf9ef0924233\" name=\"files[]\" multiple disabled\n",
              "        style=\"border:none\" />\n",
              "     <output id=\"result-0b575cbf-c4dd-4383-a6c0-bf9ef0924233\">\n",
              "      Upload widget is only available when the cell has been executed in the\n",
              "      current browser session. Please rerun this cell to enable.\n",
              "      </output>\n",
              "      <script>// Copyright 2017 Google LLC\n",
              "//\n",
              "// Licensed under the Apache License, Version 2.0 (the \"License\");\n",
              "// you may not use this file except in compliance with the License.\n",
              "// You may obtain a copy of the License at\n",
              "//\n",
              "//      http://www.apache.org/licenses/LICENSE-2.0\n",
              "//\n",
              "// Unless required by applicable law or agreed to in writing, software\n",
              "// distributed under the License is distributed on an \"AS IS\" BASIS,\n",
              "// WITHOUT WARRANTIES OR CONDITIONS OF ANY KIND, either express or implied.\n",
              "// See the License for the specific language governing permissions and\n",
              "// limitations under the License.\n",
              "\n",
              "/**\n",
              " * @fileoverview Helpers for google.colab Python module.\n",
              " */\n",
              "(function(scope) {\n",
              "function span(text, styleAttributes = {}) {\n",
              "  const element = document.createElement('span');\n",
              "  element.textContent = text;\n",
              "  for (const key of Object.keys(styleAttributes)) {\n",
              "    element.style[key] = styleAttributes[key];\n",
              "  }\n",
              "  return element;\n",
              "}\n",
              "\n",
              "// Max number of bytes which will be uploaded at a time.\n",
              "const MAX_PAYLOAD_SIZE = 100 * 1024;\n",
              "\n",
              "function _uploadFiles(inputId, outputId) {\n",
              "  const steps = uploadFilesStep(inputId, outputId);\n",
              "  const outputElement = document.getElementById(outputId);\n",
              "  // Cache steps on the outputElement to make it available for the next call\n",
              "  // to uploadFilesContinue from Python.\n",
              "  outputElement.steps = steps;\n",
              "\n",
              "  return _uploadFilesContinue(outputId);\n",
              "}\n",
              "\n",
              "// This is roughly an async generator (not supported in the browser yet),\n",
              "// where there are multiple asynchronous steps and the Python side is going\n",
              "// to poll for completion of each step.\n",
              "// This uses a Promise to block the python side on completion of each step,\n",
              "// then passes the result of the previous step as the input to the next step.\n",
              "function _uploadFilesContinue(outputId) {\n",
              "  const outputElement = document.getElementById(outputId);\n",
              "  const steps = outputElement.steps;\n",
              "\n",
              "  const next = steps.next(outputElement.lastPromiseValue);\n",
              "  return Promise.resolve(next.value.promise).then((value) => {\n",
              "    // Cache the last promise value to make it available to the next\n",
              "    // step of the generator.\n",
              "    outputElement.lastPromiseValue = value;\n",
              "    return next.value.response;\n",
              "  });\n",
              "}\n",
              "\n",
              "/**\n",
              " * Generator function which is called between each async step of the upload\n",
              " * process.\n",
              " * @param {string} inputId Element ID of the input file picker element.\n",
              " * @param {string} outputId Element ID of the output display.\n",
              " * @return {!Iterable<!Object>} Iterable of next steps.\n",
              " */\n",
              "function* uploadFilesStep(inputId, outputId) {\n",
              "  const inputElement = document.getElementById(inputId);\n",
              "  inputElement.disabled = false;\n",
              "\n",
              "  const outputElement = document.getElementById(outputId);\n",
              "  outputElement.innerHTML = '';\n",
              "\n",
              "  const pickedPromise = new Promise((resolve) => {\n",
              "    inputElement.addEventListener('change', (e) => {\n",
              "      resolve(e.target.files);\n",
              "    });\n",
              "  });\n",
              "\n",
              "  const cancel = document.createElement('button');\n",
              "  inputElement.parentElement.appendChild(cancel);\n",
              "  cancel.textContent = 'Cancel upload';\n",
              "  const cancelPromise = new Promise((resolve) => {\n",
              "    cancel.onclick = () => {\n",
              "      resolve(null);\n",
              "    };\n",
              "  });\n",
              "\n",
              "  // Wait for the user to pick the files.\n",
              "  const files = yield {\n",
              "    promise: Promise.race([pickedPromise, cancelPromise]),\n",
              "    response: {\n",
              "      action: 'starting',\n",
              "    }\n",
              "  };\n",
              "\n",
              "  cancel.remove();\n",
              "\n",
              "  // Disable the input element since further picks are not allowed.\n",
              "  inputElement.disabled = true;\n",
              "\n",
              "  if (!files) {\n",
              "    return {\n",
              "      response: {\n",
              "        action: 'complete',\n",
              "      }\n",
              "    };\n",
              "  }\n",
              "\n",
              "  for (const file of files) {\n",
              "    const li = document.createElement('li');\n",
              "    li.append(span(file.name, {fontWeight: 'bold'}));\n",
              "    li.append(span(\n",
              "        `(${file.type || 'n/a'}) - ${file.size} bytes, ` +\n",
              "        `last modified: ${\n",
              "            file.lastModifiedDate ? file.lastModifiedDate.toLocaleDateString() :\n",
              "                                    'n/a'} - `));\n",
              "    const percent = span('0% done');\n",
              "    li.appendChild(percent);\n",
              "\n",
              "    outputElement.appendChild(li);\n",
              "\n",
              "    const fileDataPromise = new Promise((resolve) => {\n",
              "      const reader = new FileReader();\n",
              "      reader.onload = (e) => {\n",
              "        resolve(e.target.result);\n",
              "      };\n",
              "      reader.readAsArrayBuffer(file);\n",
              "    });\n",
              "    // Wait for the data to be ready.\n",
              "    let fileData = yield {\n",
              "      promise: fileDataPromise,\n",
              "      response: {\n",
              "        action: 'continue',\n",
              "      }\n",
              "    };\n",
              "\n",
              "    // Use a chunked sending to avoid message size limits. See b/62115660.\n",
              "    let position = 0;\n",
              "    do {\n",
              "      const length = Math.min(fileData.byteLength - position, MAX_PAYLOAD_SIZE);\n",
              "      const chunk = new Uint8Array(fileData, position, length);\n",
              "      position += length;\n",
              "\n",
              "      const base64 = btoa(String.fromCharCode.apply(null, chunk));\n",
              "      yield {\n",
              "        response: {\n",
              "          action: 'append',\n",
              "          file: file.name,\n",
              "          data: base64,\n",
              "        },\n",
              "      };\n",
              "\n",
              "      let percentDone = fileData.byteLength === 0 ?\n",
              "          100 :\n",
              "          Math.round((position / fileData.byteLength) * 100);\n",
              "      percent.textContent = `${percentDone}% done`;\n",
              "\n",
              "    } while (position < fileData.byteLength);\n",
              "  }\n",
              "\n",
              "  // All done.\n",
              "  yield {\n",
              "    response: {\n",
              "      action: 'complete',\n",
              "    }\n",
              "  };\n",
              "}\n",
              "\n",
              "scope.google = scope.google || {};\n",
              "scope.google.colab = scope.google.colab || {};\n",
              "scope.google.colab._files = {\n",
              "  _uploadFiles,\n",
              "  _uploadFilesContinue,\n",
              "};\n",
              "})(self);\n",
              "</script> "
            ]
          },
          "metadata": {}
        },
        {
          "output_type": "stream",
          "name": "stdout",
          "text": [
            "Saving Bitcoin.xlsx to Bitcoin.xlsx\n"
          ]
        }
      ],
      "source": [
        "# from google.colab import files\n",
        "# uploaded = files.upload()"
      ]
    },
    {
      "cell_type": "markdown",
      "source": [
        "비트코인 데이터 가져오기"
      ],
      "metadata": {
        "id": "iOMCYOwhRy_X"
      }
    },
    {
      "cell_type": "code",
      "source": [
        "import pandas as pd\n",
        "import numpy as np\n",
        "\n",
        "data = pd.read_excel(\"./Bitcoin.xlsx\")\n",
        "data = data.rename(columns={\"날짜\":\"Date\",\"종가\":\"Close\",\"시가\":\"Open\",\"고가\":\"High\",\"저가\":\"Low\",\"거래량\":\"Volume\",\"변동 %\":\"Rate\"})\n",
        "\n",
        "# 중간에 데이터가 없거나, 비트코인 초반에는 거래량이 미미해서 빼 버렸다. 약 2010~2011까지 데이터 삭제\n",
        "data.drop([4337+i for i in range(6)],axis = 0,inplace=True)\n",
        "data.drop([i for i in range(4412,data.shape[0]+6)],axis=0,inplace=True)\n",
        "data.drop(\"요일\",axis=1,inplace=True)\n",
        "data = data.reset_index(drop=True)\n",
        "\n",
        "reversed_idx = [i for i in range(data.shape[0]-1,-1,-1)]\n",
        "data = pd.DataFrame(data,index=reversed_idx)\n",
        "data = data.reset_index(drop=True)\n",
        "\n",
        "def IntVolume(value):\n",
        "    value = str(value)\n",
        "    if value[-1] == 'B':\n",
        "        return int(float(value.strip('B')) * 1000000) # B: Billion\n",
        "    elif value[-1] == 'M':\n",
        "        return int(float(value.strip('M')) * 1000) # M: Million\n",
        "    elif value[-1] == 'K':\n",
        "        return int(float(value.strip('K'))) # K: Thousand\n",
        "\n",
        "\n",
        "vol_data = data[\"Volume\"].apply(IntVolume)\n",
        "data.drop(\"Volume\",axis=1,inplace=True)\n",
        "# data[\"Volume\"] = vol_data\n",
        "print(data.head())\n",
        "print(data.shape)\n",
        "print(data.info())"
      ],
      "metadata": {
        "colab": {
          "base_uri": "https://localhost:8080/"
        },
        "id": "QeYTolAuJbHX",
        "outputId": "36cbdfa5-4816-469c-b050-9feca8b5f2b1"
      },
      "execution_count": null,
      "outputs": [
        {
          "output_type": "stream",
          "name": "stdout",
          "text": [
            "        Date  Close  Open  High  Low    Rate\n",
            "0 2011-04-12    0.9   0.8   0.9  0.8  0.1169\n",
            "1 2011-04-13    0.9   0.9   1.0  0.9  0.0727\n",
            "2 2011-04-14    1.0   0.9   1.0  0.9  0.0840\n",
            "3 2011-04-15    1.0   1.0   1.1  0.9  0.0000\n",
            "4 2011-04-16    1.0   1.0   1.1  1.0  0.0607\n",
            "(4406, 6)\n",
            "<class 'pandas.core.frame.DataFrame'>\n",
            "RangeIndex: 4406 entries, 0 to 4405\n",
            "Data columns (total 6 columns):\n",
            " #   Column  Non-Null Count  Dtype         \n",
            "---  ------  --------------  -----         \n",
            " 0   Date    4406 non-null   datetime64[ns]\n",
            " 1   Close   4406 non-null   float64       \n",
            " 2   Open    4406 non-null   float64       \n",
            " 3   High    4406 non-null   float64       \n",
            " 4   Low     4406 non-null   float64       \n",
            " 5   Rate    4406 non-null   float64       \n",
            "dtypes: datetime64[ns](1), float64(5)\n",
            "memory usage: 206.7 KB\n",
            "None\n"
          ]
        }
      ]
    },
    {
      "cell_type": "markdown",
      "source": [
        "70%의 데이터는 훈련용으로 30%는 테스트용으로 분할 하였다. 참고로 여기서 학습할 요소는 하루당 시가,종가,고가,저가,변동률 5가지의 요소의 30일간의 데이터로 바로 오늘 종가를 예측하는 모델을 만드는 것이 목적이다."
      ],
      "metadata": {
        "id": "DYgFJAhfR4hU"
      }
    },
    {
      "cell_type": "code",
      "source": [
        "# 70% Train\n",
        "# 30% Test\n",
        "train_data_x = data.iloc[:int(data.shape[0]*0.7),:]\n",
        "train_data_y = data[\"Close\"].iloc[1:int(data.shape[0]*0.7+1):]\n",
        "train_data_x = train_data_x.reset_index(drop=True)\n",
        "train_data_y = train_data_y.reset_index(drop=True)\n",
        "# print(train_data_x.tail())\n",
        "# print(train_data_y.tail())\n",
        "train_data_x.drop(\"Date\",axis=1,inplace=True)\n",
        "train_data_x = np.array(train_data_x)\n",
        "train_data_y = np.array(train_data_y)\n",
        "\n",
        "test_data_x = data.iloc[int(data.shape[0]*0.7):data.shape[0]-1:]\n",
        "test_data_y = data[\"Close\"].iloc[int(data.shape[0]*0.7)+1:]\n",
        "test_data_x = test_data_x.reset_index(drop=True)\n",
        "test_data_y = test_data_y.reset_index(drop=True)\n",
        "print(test_data_x.head())\n",
        "# print(test_data_y.tail())\n",
        "test_data_x.drop(\"Date\",axis=1,inplace=True)\n",
        "test_data_x = np.array(test_data_x)\n",
        "test_data_y = np.array(test_data_y)\n",
        "\n",
        "\n",
        "def create_dataset(datasetX,datasetY, look_back):\n",
        "  dataX, dataY = [], []\n",
        "  for i in range(len(datasetX)-look_back):\n",
        "    a = datasetX[i:(i+look_back)]\n",
        "    dataX.append(a)\n",
        "    dataY.append(datasetY[i+look_back-1])\n",
        "  return np.array(dataX), np.array(dataY)\n",
        "\n",
        "time_step = 30\n",
        "trainX,trainY = create_dataset(train_data_x,train_data_y,time_step)\n",
        "testX,testY = create_dataset(test_data_x,test_data_y,time_step)\n",
        "# print(testX)\n",
        "# print(testY)\n",
        "# print(trainX[-2],trainX[-1])\n",
        "# print(trainY)"
      ],
      "metadata": {
        "id": "srvHQJRpJoWU",
        "colab": {
          "base_uri": "https://localhost:8080/"
        },
        "outputId": "10de8e58-1315-484b-8643-66fd9f14f2e0"
      },
      "execution_count": null,
      "outputs": [
        {
          "output_type": "stream",
          "name": "stdout",
          "text": [
            "        Date   Close    Open    High     Low    Rate\n",
            "0 2019-09-27  8184.9  8063.8  8257.4  7882.1  0.0150\n",
            "1 2019-09-28  8208.5  8184.5  8297.2  8031.1  0.0029\n",
            "2 2019-09-29  8049.1  8208.0  8226.8  7922.1 -0.0194\n",
            "3 2019-09-30  8284.3  8048.9  8318.5  7749.0  0.0292\n",
            "4 2019-10-01  8302.7  8285.0  8486.2  8187.9  0.0022\n"
          ]
        }
      ]
    },
    {
      "cell_type": "code",
      "source": [
        "shaped_trainX = trainX.reshape(trainX.shape[0],time_step,5)\n",
        "shaped_testX = testX.reshape(testX.shape[0],time_step,5)\n",
        "print(shaped_trainX.shape)"
      ],
      "metadata": {
        "colab": {
          "base_uri": "https://localhost:8080/"
        },
        "id": "Vc0YT4pXQ1ID",
        "outputId": "418a75f0-ade7-4bce-ae5f-82a7b9d39c38"
      },
      "execution_count": null,
      "outputs": [
        {
          "output_type": "stream",
          "name": "stdout",
          "text": [
            "(3054, 30, 5)\n"
          ]
        }
      ]
    },
    {
      "cell_type": "markdown",
      "source": [
        "딥러닝 모듈은 keras를 사용하였다. 그 중 LSTM 모델을 이용하여 학습하였다. 이 모델은 기존 RNN방식의 장기 의존성 문제를 해결할 수 있다고 하여 이용하게 되었다. 그래서 과거의 데이터 반영에 효율적이다라는 평가를 받기에 사용하였다.\n",
        "또한 직접 LSTM을 구현하는 일은 너무 오래 걸리기에 모듈을 이용하게 되었다.\n",
        "활성화 함수는 기존 tanh함수에서 relu함수로 변경하였다. 이는 tanh으로 실험해보았을때 gradient vanishing 문제가 생기는 것 같아서 취한 조치이다. 다행이도 relu로 실행하니 유의미한 모듈을 만들 수 있었다. loss 함수로는 평균 제곱 오차 함수를 이용하였다.\n",
        "\n",
        "    % 주의 % 여기서부터는 colab으로 진행했다. 로컬로 진행을 하지 않았으므로 사용자의 노트북/컴퓨터 성능에 따라 컴파일 시간이 꽤 길어질 수 있다."
      ],
      "metadata": {
        "id": "a3z7y16pR9EA"
      }
    },
    {
      "cell_type": "code",
      "source": [
        "from keras.layers import LSTM\n",
        "from keras.models import Sequential\n",
        "from keras.layers import Dense\n",
        "import keras.backend as K\n",
        "from keras.callbacks import EarlyStopping\n",
        "import keras\n",
        "\n",
        "K.clear_session()\n",
        "model = Sequential()\n",
        "model.add(LSTM(40 ,activation='relu',input_shape=(time_step,5)))\n",
        "model.add(Dense(1))\n",
        "optimizer = keras.optimizers.Adam(learning_rate=0.001)\n",
        "model.compile(loss='mean_squared_error',optimizer=optimizer)\n",
        "model.summary()\n"
      ],
      "metadata": {
        "colab": {
          "base_uri": "https://localhost:8080/"
        },
        "id": "TFyF36VJcPGc",
        "outputId": "cfc86047-dc4a-4808-8871-c683f25590e7"
      },
      "execution_count": null,
      "outputs": [
        {
          "output_type": "stream",
          "name": "stdout",
          "text": [
            "Model: \"sequential\"\n",
            "_________________________________________________________________\n",
            " Layer (type)                Output Shape              Param #   \n",
            "=================================================================\n",
            " lstm (LSTM)                 (None, 40)                7360      \n",
            "                                                                 \n",
            " dense (Dense)               (None, 1)                 41        \n",
            "                                                                 \n",
            "=================================================================\n",
            "Total params: 7,401\n",
            "Trainable params: 7,401\n",
            "Non-trainable params: 0\n",
            "_________________________________________________________________\n"
          ]
        }
      ]
    },
    {
      "cell_type": "markdown",
      "source": [
        "아래는 실제 학습 코드이다."
      ],
      "metadata": {
        "id": "zqbe2-q7Suaz"
      }
    },
    {
      "cell_type": "code",
      "source": [
        "early_stop = EarlyStopping(monitor='loss',patience=20,verbose=1)\n",
        "model.fit(shaped_trainX, trainY, epochs=100,\n",
        "          batch_size=32, verbose=1,callbacks=[early_stop])"
      ],
      "metadata": {
        "colab": {
          "base_uri": "https://localhost:8080/"
        },
        "id": "V9_r4rFlfTdc",
        "outputId": "61d0c625-faf3-4cd0-d227-e270d9de0e80"
      },
      "execution_count": null,
      "outputs": [
        {
          "output_type": "stream",
          "name": "stdout",
          "text": [
            "Epoch 1/100\n",
            "96/96 [==============================] - 2s 16ms/step - loss: 703352.5625\n",
            "Epoch 2/100\n",
            "96/96 [==============================] - 1s 13ms/step - loss: 550818.5000\n",
            "Epoch 3/100\n",
            "96/96 [==============================] - 1s 14ms/step - loss: 668784.1875\n",
            "Epoch 4/100\n",
            "96/96 [==============================] - 1s 14ms/step - loss: 510754.5312\n",
            "Epoch 5/100\n",
            "96/96 [==============================] - 1s 13ms/step - loss: 542038.4375\n",
            "Epoch 6/100\n",
            "96/96 [==============================] - 1s 14ms/step - loss: 570520.0000\n",
            "Epoch 7/100\n",
            "96/96 [==============================] - 2s 16ms/step - loss: 667068.7500\n",
            "Epoch 8/100\n",
            "96/96 [==============================] - 2s 22ms/step - loss: 489039.8750\n",
            "Epoch 9/100\n",
            "96/96 [==============================] - 1s 14ms/step - loss: 83636.2734\n",
            "Epoch 10/100\n",
            "96/96 [==============================] - 1s 13ms/step - loss: 273217.0625\n",
            "Epoch 11/100\n",
            "96/96 [==============================] - 1s 14ms/step - loss: 123345.4688\n",
            "Epoch 12/100\n",
            "96/96 [==============================] - 1s 14ms/step - loss: 60008.2031\n",
            "Epoch 13/100\n",
            "96/96 [==============================] - 1s 14ms/step - loss: 55906.8828\n",
            "Epoch 14/100\n",
            "96/96 [==============================] - 1s 14ms/step - loss: 55635.0547\n",
            "Epoch 15/100\n",
            "96/96 [==============================] - 1s 14ms/step - loss: 55750.4375\n",
            "Epoch 16/100\n",
            "96/96 [==============================] - 2s 16ms/step - loss: 55641.7188\n",
            "Epoch 17/100\n",
            "96/96 [==============================] - 2s 22ms/step - loss: 55690.9023\n",
            "Epoch 18/100\n",
            "96/96 [==============================] - 1s 14ms/step - loss: 55575.3242\n",
            "Epoch 19/100\n",
            "96/96 [==============================] - 1s 14ms/step - loss: 55808.9219\n",
            "Epoch 20/100\n",
            "96/96 [==============================] - 1s 14ms/step - loss: 55652.9414\n",
            "Epoch 21/100\n",
            "96/96 [==============================] - 1s 14ms/step - loss: 55678.5547\n",
            "Epoch 22/100\n",
            "96/96 [==============================] - 1s 14ms/step - loss: 55768.5625\n",
            "Epoch 23/100\n",
            "96/96 [==============================] - 1s 14ms/step - loss: 55792.2812\n",
            "Epoch 24/100\n",
            "96/96 [==============================] - 1s 14ms/step - loss: 55843.6797\n",
            "Epoch 25/100\n",
            "96/96 [==============================] - 2s 17ms/step - loss: 55791.9258\n",
            "Epoch 26/100\n",
            "96/96 [==============================] - 2s 22ms/step - loss: 55934.2773\n",
            "Epoch 27/100\n",
            "96/96 [==============================] - 1s 14ms/step - loss: 55758.6758\n",
            "Epoch 28/100\n",
            "96/96 [==============================] - 1s 14ms/step - loss: 55642.0000\n",
            "Epoch 29/100\n",
            "96/96 [==============================] - 2s 19ms/step - loss: 55678.6016\n",
            "Epoch 30/100\n",
            "96/96 [==============================] - 2s 18ms/step - loss: 55659.9492\n",
            "Epoch 31/100\n",
            "96/96 [==============================] - 2s 26ms/step - loss: 55654.3359\n",
            "Epoch 32/100\n",
            "96/96 [==============================] - 3s 30ms/step - loss: 55720.4023\n",
            "Epoch 33/100\n",
            "96/96 [==============================] - 3s 26ms/step - loss: 55882.7695\n",
            "Epoch 34/100\n",
            "96/96 [==============================] - 2s 20ms/step - loss: 55890.1133\n",
            "Epoch 35/100\n",
            "96/96 [==============================] - 2s 17ms/step - loss: 55776.1562\n",
            "Epoch 36/100\n",
            "96/96 [==============================] - 2s 18ms/step - loss: 55607.4492\n",
            "Epoch 37/100\n",
            "96/96 [==============================] - 2s 19ms/step - loss: 55747.6992\n",
            "Epoch 38/100\n",
            "96/96 [==============================] - 2s 19ms/step - loss: 56006.8477\n",
            "Epoch 38: early stopping\n"
          ]
        },
        {
          "output_type": "execute_result",
          "data": {
            "text/plain": [
              "<keras.callbacks.History at 0x7f9998aa0520>"
            ]
          },
          "metadata": {},
          "execution_count": 22
        }
      ]
    },
    {
      "cell_type": "markdown",
      "source": [
        "테스트를 위해서 앞서서 나누어둔 30%데이터를 내가 만든 모델에 넣어 실제 값과 비교하였다."
      ],
      "metadata": {
        "id": "wFpVAge5S6Bf"
      }
    },
    {
      "cell_type": "code",
      "source": [
        "import matplotlib.pyplot as plt\n",
        "\n",
        "testPredictY = model.predict(testX)\n",
        "var1 = testY\n",
        "var2 = testPredictY.T[0]\n",
        "graphX = [i for i in range(len(var1))]\n",
        "\n",
        "plt.figure(figsize=(5,5))\n",
        "plt.plot(graphX,var1)\n",
        "plt.plot(graphX,var2)\n",
        "plt.ylabel(ylabel=\"BitCoin Price(Thousand Dollar)\")\n",
        "plt.xlabel(xlabel=\"Date(0 == 2019.09.27)\")\n",
        "plt.legend([\"Actual Price\",\"Predicted Price\"])\n",
        "plt.show()\n",
        "\n",
        "# print(var2[:10])\n",
        "# print(var1[:10])\n",
        "accuracy = (np.absolute(var2-var1))/var1\n",
        "print(f\"평균 오차율: {round(accuracy.mean()*100,3)}%\")\n",
        "print(f\"(예측값/실제값) 의 평균: {round((var2/var1).mean(),5)}\")\n",
        "print(f\"(오차율이 5% 이하인 경우 / 모든 경우): {round(np.count_nonzero(np.round(accuracy,2)<=0.05)/accuracy.shape[0],3)}\")\n"
      ],
      "metadata": {
        "colab": {
          "base_uri": "https://localhost:8080/",
          "height": 540
        },
        "id": "1SoQ5ZqSlxuI",
        "outputId": "acef8180-96e1-4827-f63a-c7c00ba71e6d"
      },
      "execution_count": null,
      "outputs": [
        {
          "output_type": "stream",
          "name": "stdout",
          "text": [
            "41/41 [==============================] - 0s 11ms/step\n"
          ]
        },
        {
          "output_type": "display_data",
          "data": {
            "text/plain": [
              "<Figure size 500x500 with 1 Axes>"
            ],
            "image/png": "[encoded data removed]"
          },
          "metadata": {}
        },
        {
          "output_type": "stream",
          "name": "stdout",
          "text": [
            "평균 오차율: 2.77%\n",
            "(예측값/실제값) 의 평균: 0.99965\n",
            "(오차율이 5% 이하인 경우 / 모든 경우): 0.869\n"
          ]
        }
      ]
    },
    {
      "cell_type": "markdown",
      "source": [
        "오차율이 약 5% 정도가 나야한다. 이보다 좀 큰 값이 도출된다며 학습 단계 코드를 다시 돌려보면 훨씬 좋은 예측률을 도출한다. 위 그래프는 2019년 9월 27일부터 2023년 5월 10일까지의 예측값과 실제값을 비교한 그래프이다."
      ],
      "metadata": {
        "id": "mt-9c-5uGakn"
      }
    },
    {
      "cell_type": "markdown",
      "source": [
        "----\n",
        "### 결론: 오차율 5% 이내의 예측률을 보여주었다.\n",
        "\n",
        "학습할때마다 예측률은 조금씩 바뀌므로 알아서 몇 번 돌리고 가장 예측률 좋은 것을 뽑아다가 쓰길 바란다. 개인적으로 가장 좋았던 모듈은 평균 오차율이 2.77%정도 되었다.\n",
        "아무튼 그래프를 보다 싶이 추측값이 실제와 거의 유사한 그래프를 그렸다. 고로 어느정도 비트코인 종가를 예측할 수 있을 거라고 판단한다.\n",
        "\n",
        "_____\n",
        "\n",
        "### 실전코드: mark1.py\n",
        "\n",
        "이제 이 프로그램을 24시간 돌려줄 컴퓨터가 필요하긴 하다. upbit api키와 계좌는있어서 매수매도는 문제가 없으나 서버가 없다. 내 노트북을 24시간 켜 둘 수는없지 않은가? 사실 이 모델로 학습된 값을 이용한 실전자동매매 코드는 이미 짜두었다. 이건 mark1.py 파일로 볼 수 있다. 아직 실제로 장기간 돌려보지는 못했다. AWS ec2 서비스에 tensorflow가 용량 부족으로 안 깔렸기때문이다. 조만간 용량을 늘려서 실제로 실행해보고자 한다. 참고로 실전코드에 쓰이는모델은 saved_model파일에 미리 세이브 해둔 모델이다.\n",
        "\n",
        "그리고 실전코드는 지금 보신 모델(비트코인 달러 예측)과 달리 비트코인 원화 가격을 예측하는 모델을 이용한다. 이는 upbit에서는 원화로만 거래 되기 때문이다.\n",
        "\n",
        "실전코드의 원리를 대충 설명하자면 upbit api를 통해 최근 30일치의 데이터를 가지고와 모델에 넣어 오늘 종가를 예측한다. 예측된 종가보다 오늘 시가가 더 낮다면 비트코인 전량 매수하고 현재가가 예측된 종가보다 높아지면 이를 모두 매도한다. 아침 8:59에는 가지고 있는 모든 비트코인을 매도한다.\n",
        "\n",
        "참고로 엑세스 키와 시크릿 키를 일부로 빼 놓았으므로 작동되지는 않을 것이다 :)\n",
        "아직은 재미로만 보길 바란다.\n",
        "_____\n",
        "\n",
        "\n",
        "\n"
      ],
      "metadata": {
        "id": "3VXccOz2TCdM"
      }
    },
    {
      "cell_type": "code",
      "source": [],
      "metadata": {
        "id": "OxMBuYpVShbE"
      },
      "execution_count": null,
      "outputs": []
    }
  ]
}