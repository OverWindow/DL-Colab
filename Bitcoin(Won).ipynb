{
  "nbformat": 4,
  "nbformat_minor": 0,
  "metadata": {
    "colab": {
      "provenance": []
    },
    "kernelspec": {
      "name": "python3",
      "display_name": "Python 3"
    },
    "language_info": {
      "name": "python"
    }
  },
  "cells": [
    {
      "cell_type": "markdown",
      "source": [
        "# 텀 프로젝트 외전 <비트코인을 예측해보아요>\n",
        "\n",
        "그렇다면 이번엔 진짜로 비트코인 예측을 해봐야지 않겠는가?\n",
        "지난 30일간의 시가,종가,고가,저가,변동률의 데이터로 내일의 종가를 예측해주는 딥러닝 모델을 만들어보자. 여기서 쓸 모델은 RNN중 LSTM을 쓸 것이다.\n",
        "\n",
        "참고로 이 코드는 내가 노트북밖에 없는 관계로 코랩으로 테스팅 되었다. 고로 로컬로는 에러가 날 수 있으니 유의바란다. 웬만하면 괜찮을 것이다.\n",
        "\n",
        "바로 아래 코드는 코랩에서 비트코인 데이터 파일을 불러오는 코드임으로 신경 쓰지 않아도 괜찮다."
      ],
      "metadata": {
        "id": "GSSi8-sqXAcN"
      }
    },
    {
      "cell_type": "code",
      "execution_count": null,
      "metadata": {
        "colab": {
          "base_uri": "https://localhost:8080/",
          "height": 76
        },
        "id": "9oXAQ2VpIymd",
        "outputId": "f1920408-1a98-432b-9c60-efc11c7c89c7"
      },
      "outputs": [
        {
          "output_type": "display_data",
          "data": {
            "text/plain": [
              "<IPython.core.display.HTML object>"
            ],
            "text/html": [
              "\n",
              "     <input type=\"file\" id=\"files-07fa3ca3-50c5-4648-8f16-d364d19ba9e8\" name=\"files[]\" multiple disabled\n",
              "        style=\"border:none\" />\n",
              "     <output id=\"result-07fa3ca3-50c5-4648-8f16-d364d19ba9e8\">\n",
              "      Upload widget is only available when the cell has been executed in the\n",
              "      current browser session. Please rerun this cell to enable.\n",
              "      </output>\n",
              "      <script>// Copyright 2017 Google LLC\n",
              "//\n",
              "// Licensed under the Apache License, Version 2.0 (the \"License\");\n",
              "// you may not use this file except in compliance with the License.\n",
              "// You may obtain a copy of the License at\n",
              "//\n",
              "//      http://www.apache.org/licenses/LICENSE-2.0\n",
              "//\n",
              "// Unless required by applicable law or agreed to in writing, software\n",
              "// distributed under the License is distributed on an \"AS IS\" BASIS,\n",
              "// WITHOUT WARRANTIES OR CONDITIONS OF ANY KIND, either express or implied.\n",
              "// See the License for the specific language governing permissions and\n",
              "// limitations under the License.\n",
              "\n",
              "/**\n",
              " * @fileoverview Helpers for google.colab Python module.\n",
              " */\n",
              "(function(scope) {\n",
              "function span(text, styleAttributes = {}) {\n",
              "  const element = document.createElement('span');\n",
              "  element.textContent = text;\n",
              "  for (const key of Object.keys(styleAttributes)) {\n",
              "    element.style[key] = styleAttributes[key];\n",
              "  }\n",
              "  return element;\n",
              "}\n",
              "\n",
              "// Max number of bytes which will be uploaded at a time.\n",
              "const MAX_PAYLOAD_SIZE = 100 * 1024;\n",
              "\n",
              "function _uploadFiles(inputId, outputId) {\n",
              "  const steps = uploadFilesStep(inputId, outputId);\n",
              "  const outputElement = document.getElementById(outputId);\n",
              "  // Cache steps on the outputElement to make it available for the next call\n",
              "  // to uploadFilesContinue from Python.\n",
              "  outputElement.steps = steps;\n",
              "\n",
              "  return _uploadFilesContinue(outputId);\n",
              "}\n",
              "\n",
              "// This is roughly an async generator (not supported in the browser yet),\n",
              "// where there are multiple asynchronous steps and the Python side is going\n",
              "// to poll for completion of each step.\n",
              "// This uses a Promise to block the python side on completion of each step,\n",
              "// then passes the result of the previous step as the input to the next step.\n",
              "function _uploadFilesContinue(outputId) {\n",
              "  const outputElement = document.getElementById(outputId);\n",
              "  const steps = outputElement.steps;\n",
              "\n",
              "  const next = steps.next(outputElement.lastPromiseValue);\n",
              "  return Promise.resolve(next.value.promise).then((value) => {\n",
              "    // Cache the last promise value to make it available to the next\n",
              "    // step of the generator.\n",
              "    outputElement.lastPromiseValue = value;\n",
              "    return next.value.response;\n",
              "  });\n",
              "}\n",
              "\n",
              "/**\n",
              " * Generator function which is called between each async step of the upload\n",
              " * process.\n",
              " * @param {string} inputId Element ID of the input file picker element.\n",
              " * @param {string} outputId Element ID of the output display.\n",
              " * @return {!Iterable<!Object>} Iterable of next steps.\n",
              " */\n",
              "function* uploadFilesStep(inputId, outputId) {\n",
              "  const inputElement = document.getElementById(inputId);\n",
              "  inputElement.disabled = false;\n",
              "\n",
              "  const outputElement = document.getElementById(outputId);\n",
              "  outputElement.innerHTML = '';\n",
              "\n",
              "  const pickedPromise = new Promise((resolve) => {\n",
              "    inputElement.addEventListener('change', (e) => {\n",
              "      resolve(e.target.files);\n",
              "    });\n",
              "  });\n",
              "\n",
              "  const cancel = document.createElement('button');\n",
              "  inputElement.parentElement.appendChild(cancel);\n",
              "  cancel.textContent = 'Cancel upload';\n",
              "  const cancelPromise = new Promise((resolve) => {\n",
              "    cancel.onclick = () => {\n",
              "      resolve(null);\n",
              "    };\n",
              "  });\n",
              "\n",
              "  // Wait for the user to pick the files.\n",
              "  const files = yield {\n",
              "    promise: Promise.race([pickedPromise, cancelPromise]),\n",
              "    response: {\n",
              "      action: 'starting',\n",
              "    }\n",
              "  };\n",
              "\n",
              "  cancel.remove();\n",
              "\n",
              "  // Disable the input element since further picks are not allowed.\n",
              "  inputElement.disabled = true;\n",
              "\n",
              "  if (!files) {\n",
              "    return {\n",
              "      response: {\n",
              "        action: 'complete',\n",
              "      }\n",
              "    };\n",
              "  }\n",
              "\n",
              "  for (const file of files) {\n",
              "    const li = document.createElement('li');\n",
              "    li.append(span(file.name, {fontWeight: 'bold'}));\n",
              "    li.append(span(\n",
              "        `(${file.type || 'n/a'}) - ${file.size} bytes, ` +\n",
              "        `last modified: ${\n",
              "            file.lastModifiedDate ? file.lastModifiedDate.toLocaleDateString() :\n",
              "                                    'n/a'} - `));\n",
              "    const percent = span('0% done');\n",
              "    li.appendChild(percent);\n",
              "\n",
              "    outputElement.appendChild(li);\n",
              "\n",
              "    const fileDataPromise = new Promise((resolve) => {\n",
              "      const reader = new FileReader();\n",
              "      reader.onload = (e) => {\n",
              "        resolve(e.target.result);\n",
              "      };\n",
              "      reader.readAsArrayBuffer(file);\n",
              "    });\n",
              "    // Wait for the data to be ready.\n",
              "    let fileData = yield {\n",
              "      promise: fileDataPromise,\n",
              "      response: {\n",
              "        action: 'continue',\n",
              "      }\n",
              "    };\n",
              "\n",
              "    // Use a chunked sending to avoid message size limits. See b/62115660.\n",
              "    let position = 0;\n",
              "    do {\n",
              "      const length = Math.min(fileData.byteLength - position, MAX_PAYLOAD_SIZE);\n",
              "      const chunk = new Uint8Array(fileData, position, length);\n",
              "      position += length;\n",
              "\n",
              "      const base64 = btoa(String.fromCharCode.apply(null, chunk));\n",
              "      yield {\n",
              "        response: {\n",
              "          action: 'append',\n",
              "          file: file.name,\n",
              "          data: base64,\n",
              "        },\n",
              "      };\n",
              "\n",
              "      let percentDone = fileData.byteLength === 0 ?\n",
              "          100 :\n",
              "          Math.round((position / fileData.byteLength) * 100);\n",
              "      percent.textContent = `${percentDone}% done`;\n",
              "\n",
              "    } while (position < fileData.byteLength);\n",
              "  }\n",
              "\n",
              "  // All done.\n",
              "  yield {\n",
              "    response: {\n",
              "      action: 'complete',\n",
              "    }\n",
              "  };\n",
              "}\n",
              "\n",
              "scope.google = scope.google || {};\n",
              "scope.google.colab = scope.google.colab || {};\n",
              "scope.google.colab._files = {\n",
              "  _uploadFiles,\n",
              "  _uploadFilesContinue,\n",
              "};\n",
              "})(self);\n",
              "</script> "
            ]
          },
          "metadata": {}
        },
        {
          "output_type": "stream",
          "name": "stdout",
          "text": [
            "Saving saved_model.zip to saved_model.zip\n"
          ]
        }
      ],
      "source": [
        "from google.colab import files\n",
        "uploaded = files.upload()"
      ]
    },
    {
      "cell_type": "code",
      "source": [
        "from google.colab import drive\n",
        "drive.mount(\"/content/drive\")"
      ],
      "metadata": {
        "colab": {
          "base_uri": "https://localhost:8080/"
        },
        "id": "POoFFBOv3qa6",
        "outputId": "3d05ffdc-9b72-4db1-b09e-00c261d64315"
      },
      "execution_count": null,
      "outputs": [
        {
          "output_type": "stream",
          "name": "stdout",
          "text": [
            "Mounted at /content/drive\n"
          ]
        }
      ]
    },
    {
      "cell_type": "markdown",
      "source": [
        "비트코인 데이터 가져오기"
      ],
      "metadata": {
        "id": "iOMCYOwhRy_X"
      }
    },
    {
      "cell_type": "code",
      "source": [
        "import pandas as pd\n",
        "import numpy as np\n",
        "\n",
        "data = pd.read_excel(\"./drive/MyDrive/Colab Notebooks/Mark1/BitcoinWon.xlsx\")\n",
        "data = data.rename(columns={\"날짜\":\"Date\",\"종가\":\"Close\",\"시가\":\"Open\",\"고가\":\"High\",\"저가\":\"Low\",\"거래량\":\"Volume\",\"변동 %\":\"Rate\"})\n",
        "\n",
        "# 중간에 데이터가 없거나, 비트코인 초반에는 거래량이 미미해서 빼 버렸다. 약 2010~2011까지 데이터 삭제\n",
        "#data.drop([4337+i for i in range(6)],axis = 0,inplace=True)\n",
        "#data.drop([i for i in range(4412,data.shape[0]+6)],axis=0,inplace=True)\n",
        "#data = data.reset_index(drop=True)\n",
        "\n",
        "reversed_idx = [i for i in range(data.shape[0]-1,-1,-1)]\n",
        "data = pd.DataFrame(data,index=reversed_idx)\n",
        "data = data.reset_index(drop=True)\n",
        "\n",
        "def IntVolume(value):\n",
        "    value = str(value)\n",
        "    if value[-1] == 'B':\n",
        "        return int(float(value.strip('B')) * 1000000) # B: Billion\n",
        "    elif value[-1] == 'M':\n",
        "        return int(float(value.strip('M')) * 1000) # M: Million\n",
        "    elif value[-1] == 'K':\n",
        "        return int(float(value.strip('K'))) # K: Thousand\n",
        "\n",
        "\n",
        "vol_data = data[\"Volume\"].apply(IntVolume)\n",
        "data.drop(\"Volume\",axis=1,inplace=True)\n",
        "# data[\"Volume\"] = vol_data\n",
        "print(data.head())\n",
        "print(data.shape)\n",
        "print(data.info())"
      ],
      "metadata": {
        "colab": {
          "base_uri": "https://localhost:8080/"
        },
        "id": "QeYTolAuJbHX",
        "outputId": "11248102-30bc-4c9e-b7cd-8e3f29acbbf8"
      },
      "execution_count": null,
      "outputs": [
        {
          "output_type": "stream",
          "name": "stdout",
          "text": [
            "        Date    Close     Open     High      Low    Rate\n",
            "0 2017-05-23  3206000  3104000  3281000  3081000  0.0329\n",
            "1 2017-05-24  4175000  3206000  4314000  3206000  0.3022\n",
            "2 2017-05-25  4199000  4175000  4840000  3102000  0.0057\n",
            "3 2017-05-26  3227000  4199000  4200000  2900000 -0.2315\n",
            "4 2017-05-27  3152000  3227000  3288000  2460000 -0.0232\n",
            "(2177, 6)\n",
            "<class 'pandas.core.frame.DataFrame'>\n",
            "RangeIndex: 2177 entries, 0 to 2176\n",
            "Data columns (total 6 columns):\n",
            " #   Column  Non-Null Count  Dtype         \n",
            "---  ------  --------------  -----         \n",
            " 0   Date    2177 non-null   datetime64[ns]\n",
            " 1   Close   2177 non-null   int64         \n",
            " 2   Open    2177 non-null   int64         \n",
            " 3   High    2177 non-null   int64         \n",
            " 4   Low     2177 non-null   int64         \n",
            " 5   Rate    2177 non-null   float64       \n",
            "dtypes: datetime64[ns](1), float64(1), int64(4)\n",
            "memory usage: 102.2 KB\n",
            "None\n"
          ]
        }
      ]
    },
    {
      "cell_type": "markdown",
      "source": [
        "70%의 데이터는 훈련용으로 30%는 테스트용으로 분할 하였다. 참고로 여기서 학습할 요소는 하루당 시가,종가,고가,저가,변동률 5가지의 요소의 30일간의 데이터로 바로 다음날 종가를 예측하는 모델을 만드는 것이 목적이다."
      ],
      "metadata": {
        "id": "DYgFJAhfR4hU"
      }
    },
    {
      "cell_type": "code",
      "source": [
        "# 70% Train\n",
        "# 30% Test\n",
        "train_data_x = data.iloc[:int(data.shape[0]*0.7),:]\n",
        "train_data_y = data[\"Close\"].iloc[1:int(data.shape[0]*0.7+1):]\n",
        "train_data_x = train_data_x.reset_index(drop=True)\n",
        "train_data_y = train_data_y.reset_index(drop=True)\n",
        "# print(train_data_x.tail())\n",
        "# print(train_data_y.tail())\n",
        "train_data_x.drop(\"Date\",axis=1,inplace=True)\n",
        "train_data_x = np.array(train_data_x)\n",
        "train_data_y = np.array(train_data_y)\n",
        "\n",
        "test_data_x = data.iloc[int(data.shape[0]*0.7):data.shape[0]-1:]\n",
        "test_data_y = data[\"Close\"].iloc[int(data.shape[0]*0.7)+1:]\n",
        "test_data_x = test_data_x.reset_index(drop=True)\n",
        "test_data_y = test_data_y.reset_index(drop=True)\n",
        "# print(test_data_x.head())\n",
        "# print(test_data_y.tail())\n",
        "test_data_x.drop(\"Date\",axis=1,inplace=True)\n",
        "test_data_x = np.array(test_data_x)\n",
        "test_data_y = np.array(test_data_y)\n",
        "\n",
        "time_step = 30\n",
        "\n",
        "high_test_data_y = data[\"High\"].iloc[int(data.shape[0]*0.7)+1:]\n",
        "high_test_data_y = high_test_data_y.reset_index(drop=True)\n",
        "def highTestData(dataset,look_back):\n",
        "  data = []\n",
        "  for i in range(len(dataset)-look_back):\n",
        "    data.append(dataset[i+look_back-1])\n",
        "  return np.array(data)\n",
        "high_test_data_y = highTestData(high_test_data_y,time_step)\n",
        "# print(high_test_data_y)\n",
        "\n",
        "def create_dataset(datasetX,datasetY, look_back):\n",
        "  dataX, dataY = [], []\n",
        "  for i in range(len(datasetX)-look_back):\n",
        "    a = datasetX[i:(i+look_back)]\n",
        "    dataX.append(a)\n",
        "    dataY.append(datasetY[i+look_back-1])\n",
        "  return np.array(dataX), np.array(dataY)\n",
        "trainX,trainY = create_dataset(train_data_x,train_data_y,time_step)\n",
        "testX,testY = create_dataset(test_data_x,test_data_y,time_step)\n",
        "# print(testX)\n",
        "# print(testY)\n",
        "# print(trainX[-2],trainX[-1])\n",
        "# print(trainY)"
      ],
      "metadata": {
        "id": "srvHQJRpJoWU"
      },
      "execution_count": null,
      "outputs": []
    },
    {
      "cell_type": "code",
      "source": [
        "shaped_trainX = trainX.reshape(trainX.shape[0],time_step,5)\n",
        "shaped_testX = testX.reshape(testX.shape[0],time_step,5)\n",
        "print(shaped_trainX.shape)"
      ],
      "metadata": {
        "colab": {
          "base_uri": "https://localhost:8080/"
        },
        "id": "Vc0YT4pXQ1ID",
        "outputId": "b5ba6bc6-e2ff-4fea-c313-cd23216e94ae"
      },
      "execution_count": null,
      "outputs": [
        {
          "output_type": "stream",
          "name": "stdout",
          "text": [
            "(1493, 30, 5)\n"
          ]
        }
      ]
    },
    {
      "cell_type": "markdown",
      "source": [
        "딥러닝 모듈은 keras를 사용하였다. 그 중 LSTM 모델을 이용하여 학습하였다. 이 모델은 기존 RNN방식의 장기 의존성 문제를 해결할 수 있다고 하여 이용하게 되었다. 그래서 과거의 데이터 반영에 효율적이다라는 평가를 받기에 사용하였다.\n",
        "또한 직접 LSTM을 구현하는 일은 너무 오래 걸리기에 모듈을 이용하게 되었다."
      ],
      "metadata": {
        "id": "a3z7y16pR9EA"
      }
    },
    {
      "cell_type": "code",
      "source": [
        "from keras.layers import LSTM\n",
        "from keras.models import Sequential\n",
        "from keras.layers import Dense\n",
        "import keras.backend as K\n",
        "from keras.callbacks import EarlyStopping\n",
        "import keras\n",
        "\n",
        "K.clear_session()\n",
        "model = Sequential()\n",
        "model.add(LSTM(40,activation='relu',input_shape=(time_step,5)))\n",
        "model.add(Dense(1))\n",
        "optimizer = keras.optimizers.Adam(learning_rate=0.001)\n",
        "model.compile(loss='mean_squared_error',optimizer=optimizer)\n",
        "model.summary()\n"
      ],
      "metadata": {
        "colab": {
          "base_uri": "https://localhost:8080/"
        },
        "id": "TFyF36VJcPGc",
        "outputId": "bc9a4439-00c9-4f11-c9a8-e3adca85dfff"
      },
      "execution_count": null,
      "outputs": [
        {
          "output_type": "stream",
          "name": "stdout",
          "text": [
            "Model: \"sequential\"\n",
            "_________________________________________________________________\n",
            " Layer (type)                Output Shape              Param #   \n",
            "=================================================================\n",
            " lstm (LSTM)                 (None, 40)                7360      \n",
            "                                                                 \n",
            " dense (Dense)               (None, 1)                 41        \n",
            "                                                                 \n",
            "=================================================================\n",
            "Total params: 7,401\n",
            "Trainable params: 7,401\n",
            "Non-trainable params: 0\n",
            "_________________________________________________________________\n"
          ]
        }
      ]
    },
    {
      "cell_type": "markdown",
      "source": [
        "아래는 실제 학습 코드이다.\n",
        "콜백의 얼리 스톱 코드를 써 봤는데 효율적인지는 모르겠다. 더 학습해도 될 것 같은데 자꾸 끊어버린다. 아직 내 딥러닝 지식이 좀 부족한 관계로 그러려니 하면 된다."
      ],
      "metadata": {
        "id": "zqbe2-q7Suaz"
      }
    },
    {
      "cell_type": "code",
      "source": [
        "\n",
        "early_stop = EarlyStopping(monitor='loss',patience=60,verbose=1)\n",
        "model.fit(shaped_trainX, trainY, epochs=500,\n",
        "          batch_size=32, verbose=1, callbacks=[early_stop])"
      ],
      "metadata": {
        "colab": {
          "base_uri": "https://localhost:8080/"
        },
        "id": "V9_r4rFlfTdc",
        "outputId": "bc4c1352-ce08-47e2-8f56-5e30621d7c68"
      },
      "execution_count": null,
      "outputs": [
        {
          "output_type": "stream",
          "name": "stdout",
          "text": [
            "Epoch 1/500\n",
            "47/47 [==============================] - 1s 16ms/step - loss: 896152174592.0000\n",
            "Epoch 2/500\n",
            "47/47 [==============================] - 1s 15ms/step - loss: 897182859264.0000\n",
            "Epoch 3/500\n",
            "47/47 [==============================] - 1s 15ms/step - loss: 897032781824.0000\n",
            "Epoch 4/500\n",
            "47/47 [==============================] - 1s 16ms/step - loss: 915053936640.0000\n",
            "Epoch 5/500\n",
            "47/47 [==============================] - 1s 15ms/step - loss: 890467450880.0000\n",
            "Epoch 6/500\n",
            "47/47 [==============================] - 1s 16ms/step - loss: 904593801216.0000\n",
            "Epoch 7/500\n",
            "47/47 [==============================] - 1s 20ms/step - loss: 882471731200.0000\n",
            "Epoch 8/500\n",
            "47/47 [==============================] - 1s 24ms/step - loss: 883441401856.0000\n",
            "Epoch 9/500\n",
            "47/47 [==============================] - 1s 24ms/step - loss: 903459438592.0000\n",
            "Epoch 10/500\n",
            "47/47 [==============================] - 1s 24ms/step - loss: 938959831040.0000\n",
            "Epoch 11/500\n",
            "47/47 [==============================] - 1s 23ms/step - loss: 889090080768.0000\n",
            "Epoch 12/500\n",
            "47/47 [==============================] - 1s 16ms/step - loss: 877880279040.0000\n",
            "Epoch 13/500\n",
            "47/47 [==============================] - 1s 15ms/step - loss: 993671315456.0000\n",
            "Epoch 14/500\n",
            "47/47 [==============================] - 1s 15ms/step - loss: 925462888448.0000\n",
            "Epoch 15/500\n",
            "47/47 [==============================] - 1s 15ms/step - loss: 928541376512.0000\n",
            "Epoch 16/500\n",
            "47/47 [==============================] - 1s 15ms/step - loss: 880934387712.0000\n",
            "Epoch 17/500\n",
            "47/47 [==============================] - 1s 16ms/step - loss: 907155865600.0000\n",
            "Epoch 18/500\n",
            "47/47 [==============================] - 1s 15ms/step - loss: 918048342016.0000\n",
            "Epoch 19/500\n",
            "47/47 [==============================] - 1s 15ms/step - loss: 892251799552.0000\n",
            "Epoch 20/500\n",
            "47/47 [==============================] - 1s 15ms/step - loss: 900074700800.0000\n",
            "Epoch 21/500\n",
            "47/47 [==============================] - 1s 15ms/step - loss: 899439263744.0000\n",
            "Epoch 22/500\n",
            "47/47 [==============================] - 1s 15ms/step - loss: 927019892736.0000\n",
            "Epoch 23/500\n",
            "47/47 [==============================] - 1s 15ms/step - loss: 895148359680.0000\n",
            "Epoch 24/500\n",
            "47/47 [==============================] - 1s 15ms/step - loss: 899936681984.0000\n",
            "Epoch 25/500\n",
            "47/47 [==============================] - 1s 17ms/step - loss: 912466116608.0000\n",
            "Epoch 26/500\n",
            "47/47 [==============================] - 1s 24ms/step - loss: 867120119808.0000\n",
            "Epoch 27/500\n",
            "47/47 [==============================] - 1s 24ms/step - loss: 894434410496.0000\n",
            "Epoch 28/500\n",
            "47/47 [==============================] - 1s 24ms/step - loss: 912707878912.0000\n",
            "Epoch 29/500\n",
            "47/47 [==============================] - 1s 24ms/step - loss: 912819683328.0000\n",
            "Epoch 30/500\n",
            "47/47 [==============================] - 1s 17ms/step - loss: 860736126976.0000\n",
            "Epoch 31/500\n",
            "47/47 [==============================] - 1s 15ms/step - loss: 893150953472.0000\n",
            "Epoch 32/500\n",
            "47/47 [==============================] - 1s 16ms/step - loss: 906131144704.0000\n",
            "Epoch 33/500\n",
            "47/47 [==============================] - 1s 16ms/step - loss: 926273961984.0000\n",
            "Epoch 34/500\n",
            "47/47 [==============================] - 1s 15ms/step - loss: 878702690304.0000\n",
            "Epoch 35/500\n",
            "47/47 [==============================] - 1s 15ms/step - loss: 922708148224.0000\n",
            "Epoch 36/500\n",
            "47/47 [==============================] - 1s 16ms/step - loss: 910800846848.0000\n",
            "Epoch 37/500\n",
            "47/47 [==============================] - 1s 15ms/step - loss: 891805237248.0000\n",
            "Epoch 38/500\n",
            "47/47 [==============================] - 1s 15ms/step - loss: 900697751552.0000\n",
            "Epoch 39/500\n",
            "47/47 [==============================] - 1s 15ms/step - loss: 887334961152.0000\n",
            "Epoch 40/500\n",
            "47/47 [==============================] - 1s 16ms/step - loss: 915288686592.0000\n",
            "Epoch 41/500\n",
            "47/47 [==============================] - 1s 15ms/step - loss: 912808738816.0000\n",
            "Epoch 42/500\n",
            "47/47 [==============================] - 1s 15ms/step - loss: 876551536640.0000\n",
            "Epoch 43/500\n",
            "47/47 [==============================] - 1s 15ms/step - loss: 882561449984.0000\n",
            "Epoch 44/500\n",
            "47/47 [==============================] - 1s 24ms/step - loss: 904717729792.0000\n",
            "Epoch 45/500\n",
            "47/47 [==============================] - 1s 23ms/step - loss: 879865823232.0000\n",
            "Epoch 46/500\n",
            "47/47 [==============================] - 1s 24ms/step - loss: 899931635712.0000\n",
            "Epoch 47/500\n",
            "47/47 [==============================] - 1s 24ms/step - loss: 890297122816.0000\n",
            "Epoch 48/500\n",
            "47/47 [==============================] - 1s 19ms/step - loss: 888779177984.0000\n",
            "Epoch 49/500\n",
            "47/47 [==============================] - 1s 15ms/step - loss: 889112100864.0000\n",
            "Epoch 50/500\n",
            "47/47 [==============================] - 1s 15ms/step - loss: 895531089920.0000\n",
            "Epoch 51/500\n",
            "47/47 [==============================] - 1s 15ms/step - loss: 990917165056.0000\n",
            "Epoch 52/500\n",
            "47/47 [==============================] - 1s 15ms/step - loss: 871164411904.0000\n",
            "Epoch 53/500\n",
            "47/47 [==============================] - 1s 15ms/step - loss: 894385913856.0000\n",
            "Epoch 54/500\n",
            "47/47 [==============================] - 1s 15ms/step - loss: 893146759168.0000\n",
            "Epoch 55/500\n",
            "47/47 [==============================] - 1s 16ms/step - loss: 891186053120.0000\n",
            "Epoch 56/500\n",
            "47/47 [==============================] - 1s 15ms/step - loss: 899361996800.0000\n",
            "Epoch 57/500\n",
            "47/47 [==============================] - 1s 15ms/step - loss: 893716660224.0000\n",
            "Epoch 58/500\n",
            "47/47 [==============================] - 1s 15ms/step - loss: 926572937216.0000\n",
            "Epoch 59/500\n",
            "47/47 [==============================] - 1s 15ms/step - loss: 885936422912.0000\n",
            "Epoch 60/500\n",
            "47/47 [==============================] - 1s 15ms/step - loss: 898677080064.0000\n",
            "Epoch 61/500\n",
            "47/47 [==============================] - 1s 15ms/step - loss: 906353049600.0000\n",
            "Epoch 62/500\n",
            "47/47 [==============================] - 1s 20ms/step - loss: 899696820224.0000\n",
            "Epoch 63/500\n",
            "47/47 [==============================] - 1s 24ms/step - loss: 904799387648.0000\n",
            "Epoch 64/500\n",
            "47/47 [==============================] - 1s 25ms/step - loss: 955791441920.0000\n",
            "Epoch 65/500\n",
            "47/47 [==============================] - 1s 24ms/step - loss: 919101505536.0000\n",
            "Epoch 66/500\n",
            "47/47 [==============================] - 1s 23ms/step - loss: 910078181376.0000\n",
            "Epoch 67/500\n",
            "47/47 [==============================] - 1s 15ms/step - loss: 889985368064.0000\n",
            "Epoch 68/500\n",
            "47/47 [==============================] - 1s 16ms/step - loss: 879373189120.0000\n",
            "Epoch 69/500\n",
            "47/47 [==============================] - 1s 16ms/step - loss: 909885440000.0000\n",
            "Epoch 70/500\n",
            "47/47 [==============================] - 1s 15ms/step - loss: 887910039552.0000\n",
            "Epoch 71/500\n",
            "47/47 [==============================] - 1s 16ms/step - loss: 910568062976.0000\n",
            "Epoch 72/500\n",
            "47/47 [==============================] - 1s 15ms/step - loss: 892357509120.0000\n",
            "Epoch 73/500\n",
            "47/47 [==============================] - 1s 15ms/step - loss: 912114122752.0000\n",
            "Epoch 74/500\n",
            "47/47 [==============================] - 1s 15ms/step - loss: 878847197184.0000\n",
            "Epoch 75/500\n",
            "47/47 [==============================] - 1s 15ms/step - loss: 877333839872.0000\n",
            "Epoch 76/500\n",
            "47/47 [==============================] - 1s 15ms/step - loss: 925144711168.0000\n",
            "Epoch 77/500\n",
            "47/47 [==============================] - 1s 15ms/step - loss: 916406796288.0000\n",
            "Epoch 78/500\n",
            "47/47 [==============================] - 1s 16ms/step - loss: 891602075648.0000\n",
            "Epoch 79/500\n",
            "47/47 [==============================] - 1s 16ms/step - loss: 880686399488.0000\n",
            "Epoch 80/500\n",
            "47/47 [==============================] - 1s 21ms/step - loss: 904486912000.0000\n",
            "Epoch 81/500\n",
            "47/47 [==============================] - 1s 24ms/step - loss: 905560981504.0000\n",
            "Epoch 82/500\n",
            "47/47 [==============================] - 1s 24ms/step - loss: 892719398912.0000\n",
            "Epoch 83/500\n",
            "47/47 [==============================] - 1s 25ms/step - loss: 880790601728.0000\n",
            "Epoch 84/500\n",
            "47/47 [==============================] - 1s 21ms/step - loss: 944042016768.0000\n",
            "Epoch 85/500\n",
            "47/47 [==============================] - 1s 15ms/step - loss: 895915196416.0000\n",
            "Epoch 86/500\n",
            "47/47 [==============================] - 1s 15ms/step - loss: 882096996352.0000\n",
            "Epoch 87/500\n",
            "47/47 [==============================] - 1s 15ms/step - loss: 892673458176.0000\n",
            "Epoch 88/500\n",
            "47/47 [==============================] - 1s 15ms/step - loss: 882615713792.0000\n",
            "Epoch 89/500\n",
            "47/47 [==============================] - 1s 15ms/step - loss: 900138795008.0000\n",
            "Epoch 90/500\n",
            "47/47 [==============================] - 1s 15ms/step - loss: 885880848384.0000\n",
            "Epoch 90: early stopping\n"
          ]
        },
        {
          "output_type": "execute_result",
          "data": {
            "text/plain": [
              "<keras.callbacks.History at 0x7fe669dd9c30>"
            ]
          },
          "metadata": {},
          "execution_count": 53
        }
      ]
    },
    {
      "cell_type": "markdown",
      "source": [
        "테스트를 위한 30%데이터를 내가 만든 모델에 넣어 실제 값과 비교하였다."
      ],
      "metadata": {
        "id": "wFpVAge5S6Bf"
      }
    },
    {
      "cell_type": "code",
      "source": [
        "import matplotlib.pyplot as plt\n",
        "\n",
        "testPredictY = model.predict(shaped_testX)\n",
        "var1 = testY\n",
        "var2 = testPredictY.T[0]\n",
        "graphX = [i for i in range(len(var1))]\n",
        "plt.figure(figsize=(5,5))\n",
        "plt.plot(graphX,var1)\n",
        "plt.plot(graphX,var2)\n",
        "plt.ylabel(ylabel=\"BitCoin Price(Won)\")\n",
        "plt.xlabel(xlabel=\"Date(0 == 2021-07-26)\")\n",
        "plt.legend([\"Actual Price\",\"Predicted Price\"])\n",
        "plt.grid()\n",
        "plt.show()\n",
        "\n",
        "# print(var1[:10])\n",
        "# print(var2[:10])\n",
        "accuracy = (np.absolute(var2-var1))/var1\n",
        "howClose = (var2/var1)\n",
        "print(f\"Mean of Error Rate: {np.round(accuracy.mean(),4)*100} %\")\n",
        "print(f\"Below 5% of Error Rate: {round(np.count_nonzero(np.round(accuracy,2)<=0.05)/accuracy.shape[0],3)*100} %\")\n",
        "print(f\"Predicted Price / Actual Price: {round(howClose.mean(),3)}\")\n",
        "\n",
        "Money = 0\n",
        "for i in range(var1.shape[0]):\n",
        "  if i == 0:\n",
        "    Money = var1[i]\n",
        "  elif Money * 101/100 <= var2[i]:\n",
        "    if high_test_data_y[i] >= var2[i]:\n",
        "      Money = var2[i]\n",
        "    else:\n",
        "      Money = var1[i]\n",
        "  else:\n",
        "    pass\n",
        "\n",
        "print(f\"Estimated profit rate: {round((Money-var1[0])/var1[0],3)*100} %\")\n",
        "# 계산 대충 했기 때문에 정확하지 않음(=알고리즘이 틀렸을 수도 있음)\n",
        "print(\"(2021-07-26 ~ 2023-05-10)\")"
      ],
      "metadata": {
        "colab": {
          "base_uri": "https://localhost:8080/",
          "height": 589
        },
        "id": "1SoQ5ZqSlxuI",
        "outputId": "7123e746-7e09-4c9a-b203-6c855428fbc6"
      },
      "execution_count": null,
      "outputs": [
        {
          "output_type": "stream",
          "name": "stdout",
          "text": [
            "20/20 [==============================] - 0s 5ms/step\n"
          ]
        },
        {
          "output_type": "display_data",
          "data": {
            "text/plain": [
              "<Figure size 500x500 with 1 Axes>"
            ],
            "image/png": "[encoded data removed]"
          },
          "metadata": {}
        },
        {
          "output_type": "stream",
          "name": "stdout",
          "text": [
            "Mean of Error Rate: 1.9900000000000002 %\n",
            "Below 5% of Error Rate: 92.60000000000001 %\n",
            "Predicted Price / Actual Price: 1.007\n",
            "Estimated profit rate: 43.7 %\n",
            "(2021-07-26 ~ 2023-05-10)\n"
          ]
        }
      ]
    },
    {
      "cell_type": "markdown",
      "source": [
        "For Saving the Model"
      ],
      "metadata": {
        "id": "K4smOW5rAZU6"
      }
    },
    {
      "cell_type": "code",
      "source": [
        "Save_Model_Name = \"mark1_0_1\"\n",
        "model.save(f'./drive/MyDrive/Colab Notebooks/Mark1/saved_model/{Save_Model_Name}')"
      ],
      "metadata": {
        "id": "ivb3xTXh86t6"
      },
      "execution_count": null,
      "outputs": []
    },
    {
      "cell_type": "markdown",
      "source": [
        "### 결론: 5% 이하의 오차율로는 90% 이상의 예측율 기록하였다\n",
        "\n",
        "학습할때마다 예측률은 조금씩 바뀌므로 알아서 몇 번 돌리고 가장 예측률 좋은 것을 뽑아다가 쓰길 바란다.\n",
        "그래프를 보다 싶이 추측값이 실제와 거의 유사한 그래프를 그렸다. 이제 이 프로그램을 24시간 돌려줄 컴퓨터가 필요하긴 하다. upbit api키와 계좌는 있어서 매수매도는 문제가 없으나 서버가 없다. 내 노트북을 24시간 켜 둘 수는 없지 않은가? 다음번에는 이더리움 예측도 해보겠다.\n",
        "\n",
        "P.S. 사실 주식 예측을 할라 했는데 주식시장은 매일 열리는게 아니므로 데이터 조정이 까다롭다. 그렇다. 귀찮아서 주식 예측은 하지 않았다.\n"
      ],
      "metadata": {
        "id": "3VXccOz2TCdM"
      }
    },
    {
      "cell_type": "markdown",
      "source": [
        "# 추가 실전 테스트 용 코드들:"
      ],
      "metadata": {
        "id": "BD80DztOgX0U"
      }
    },
    {
      "cell_type": "markdown",
      "source": [
        "종가 예측 모델 저장 및 불러오기 테스트 용 코드(잘 저장 됨)"
      ],
      "metadata": {
        "id": "QX1quOHtgFag"
      }
    },
    {
      "cell_type": "code",
      "source": [
        "model.save('saved_model/mark1')\n",
        "# model.save_weights('./mark1')"
      ],
      "metadata": {
        "id": "wqyGOT7seH0a"
      },
      "execution_count": null,
      "outputs": []
    },
    {
      "cell_type": "markdown",
      "source": [
        "러닝 모델 불러오기"
      ],
      "metadata": {
        "id": "aP78I0jT6QvD"
      }
    },
    {
      "cell_type": "code",
      "source": [
        "from google.colab import files\n",
        "uploaded = files.upload()"
      ],
      "metadata": {
        "id": "D454A0a86P2-"
      },
      "execution_count": null,
      "outputs": []
    },
    {
      "cell_type": "code",
      "source": [
        "import tensorflow as tf\n",
        "new_model = tf.keras.models.load_model('saved_model/mark1')\n",
        "\n",
        "# Check its architecture\n",
        "new_model.summary()\n",
        "# LoadPredictY = new_model.predict(shaped_testX)\n",
        "# print(LoadPredictY[:10])"
      ],
      "metadata": {
        "colab": {
          "base_uri": "https://localhost:8080/"
        },
        "id": "fp9l1BKPfRvk",
        "outputId": "0b8d9fec-4bc9-4bdc-a4be-392601a554d8"
      },
      "execution_count": null,
      "outputs": [
        {
          "output_type": "stream",
          "name": "stdout",
          "text": [
            "Model: \"sequential\"\n",
            "_________________________________________________________________\n",
            " Layer (type)                Output Shape              Param #   \n",
            "=================================================================\n",
            " lstm (LSTM)                 (None, 40)                7360      \n",
            "                                                                 \n",
            " dense (Dense)               (None, 1)                 41        \n",
            "                                                                 \n",
            "=================================================================\n",
            "Total params: 7,401\n",
            "Trainable params: 7,401\n",
            "Non-trainable params: 0\n",
            "_________________________________________________________________\n"
          ]
        }
      ]
    },
    {
      "cell_type": "code",
      "source": [
        "!zip -r /content/saved_model.zip /content/saved_model"
      ],
      "metadata": {
        "colab": {
          "base_uri": "https://localhost:8080/"
        },
        "id": "gU-CW-aqpszO",
        "outputId": "674b923a-d923-4581-fe90-b2cb34a4aa8d"
      },
      "execution_count": null,
      "outputs": [
        {
          "output_type": "stream",
          "name": "stdout",
          "text": [
            "  adding: content/saved_model/ (stored 0%)\n",
            "  adding: content/saved_model/mark1/ (stored 0%)\n",
            "  adding: content/saved_model/mark1/assets/ (stored 0%)\n",
            "  adding: content/saved_model/mark1/saved_model.pb (deflated 90%)\n",
            "  adding: content/saved_model/mark1/variables/ (stored 0%)\n",
            "  adding: content/saved_model/mark1/variables/variables.index (deflated 58%)\n",
            "  adding: content/saved_model/mark1/variables/variables.data-00000-of-00001 (deflated 54%)\n",
            "  adding: content/saved_model/mark1/keras_metadata.pb (deflated 86%)\n",
            "  adding: content/saved_model/mark1/fingerprint.pb (stored 0%)\n"
          ]
        }
      ]
    },
    {
      "cell_type": "code",
      "source": [
        "!unzip -qq ./saved_model.zip"
      ],
      "metadata": {
        "id": "NngkW2QNkJUz"
      },
      "execution_count": null,
      "outputs": []
    },
    {
      "cell_type": "markdown",
      "source": [
        "업비트에서 최근 30일치 비트코인 시세 불러오기 코드(잘 호출 됨)"
      ],
      "metadata": {
        "id": "nhoCI3rrgh5I"
      }
    },
    {
      "cell_type": "code",
      "source": [
        "import requests\n",
        "import pandas as pd\n",
        "import numpy as np\n",
        "\n",
        "url = \"https://api.upbit.com/v1/candles/days?market=KRW-BTC&count=31\"\n",
        "headers = {\"accept\": \"application/json\"}\n",
        "response = requests.get(url, headers=headers)\n",
        "\n",
        "# print(response.json())\n",
        "responseList = []\n",
        "for i in range(30):\n",
        "  temp = response.json()[i+1]\n",
        "  responseList.append([temp[\"candle_date_time_utc\"],\n",
        "                      temp[\"opening_price\"],\n",
        "                     temp[\"high_price\"],\n",
        "                     temp[\"low_price\"],\n",
        "                     temp[\"trade_price\"],\n",
        "                     temp[\"change_rate\"],\n",
        "                     ])\n",
        "\n",
        "# print(responseList)\n",
        "responseDF = pd.DataFrame(responseList)\n",
        "reversed_idx = [i for i in range(len(responseList)-1,-1,-1)]\n",
        "responseDF = pd.DataFrame(responseDF,index=reversed_idx)\n",
        "responseDF = responseDF.reset_index(drop=True)\n",
        "# print(responseDF.head())\n",
        "print(responseDF.tail())\n",
        "responseDF.drop(0,axis=1,inplace=True)\n",
        "\n",
        "\n",
        "responseDF = np.array(responseDF)\n",
        "moduleInput = responseDF.reshape(1,30,5)"
      ],
      "metadata": {
        "id": "TUFa6mWVUR59",
        "colab": {
          "base_uri": "https://localhost:8080/"
        },
        "outputId": "6b54febd-7aff-4c5a-d919-f3106b603767"
      },
      "execution_count": null,
      "outputs": [
        {
          "output_type": "stream",
          "name": "stdout",
          "text": [
            "                      0           1           2           3           4  \\\n",
            "25  2023-05-11T00:00:00  37072000.0  37232000.0  36260000.0  36411000.0   \n",
            "26  2023-05-12T00:00:00  36413000.0  36554000.0  35262000.0  36341000.0   \n",
            "27  2023-05-13T00:00:00  36341000.0  36662000.0  36143000.0  36374000.0   \n",
            "28  2023-05-14T00:00:00  36382000.0  36800000.0  36193000.0  36415000.0   \n",
            "29  2023-05-15T00:00:00  36420000.0  37200000.0  36204000.0  36632000.0   \n",
            "\n",
            "           5  \n",
            "25 -0.017804  \n",
            "26 -0.001922  \n",
            "27  0.000908  \n",
            "28  0.001127  \n",
            "29  0.005959  \n"
          ]
        }
      ]
    },
    {
      "cell_type": "markdown",
      "source": [
        "최근 30일치 시세 데이터 기반으로 오늘 종가(다음 날 아침 9:00) 예측"
      ],
      "metadata": {
        "id": "hC2VESO6gygo"
      }
    },
    {
      "cell_type": "code",
      "source": [
        "from datetime import datetime\n",
        "predictedPrice = new_model.predict(moduleInput)\n",
        "\n",
        "print(f\"{datetime.today().strftime('%Y-%m-%d')} predicted Bitcoin Close Price(Won): {predictedPrice[0][0]} \\\\\")"
      ],
      "metadata": {
        "colab": {
          "base_uri": "https://localhost:8080/"
        },
        "id": "C9W1gJ8DwO9b",
        "outputId": "0efe1fd4-932f-4e47-b1ac-5295dfbe11a0"
      },
      "execution_count": null,
      "outputs": [
        {
          "output_type": "stream",
          "name": "stdout",
          "text": [
            "1/1 [==============================] - 1s 604ms/step\n",
            "2023-05-16 predicted Bitcoin Close Price(Won): 35935056.0 \\\n"
          ]
        }
      ]
    },
    {
      "cell_type": "code",
      "source": [
        "!pip install schedule\n",
        "!pip install jwt\n"
      ],
      "metadata": {
        "id": "vddskyMew7jK",
        "colab": {
          "base_uri": "https://localhost:8080/"
        },
        "outputId": "4749f9ad-44b3-4d3e-96c0-70eef83b5aa7"
      },
      "execution_count": null,
      "outputs": [
        {
          "output_type": "stream",
          "name": "stdout",
          "text": [
            "Looking in indexes: https://pypi.org/simple, https://us-python.pkg.dev/colab-wheels/public/simple/\n",
            "Collecting schedule\n",
            "  Downloading schedule-1.2.0-py2.py3-none-any.whl (11 kB)\n",
            "Installing collected packages: schedule\n",
            "Successfully installed schedule-1.2.0\n",
            "Looking in indexes: https://pypi.org/simple, https://us-python.pkg.dev/colab-wheels/public/simple/\n",
            "Collecting jwt\n",
            "  Downloading jwt-1.3.1-py3-none-any.whl (18 kB)\n",
            "Requirement already satisfied: cryptography!=3.4.0,>=3.1 in /usr/local/lib/python3.10/dist-packages (from jwt) (40.0.2)\n",
            "Requirement already satisfied: cffi>=1.12 in /usr/local/lib/python3.10/dist-packages (from cryptography!=3.4.0,>=3.1->jwt) (1.15.1)\n",
            "Requirement already satisfied: pycparser in /usr/local/lib/python3.10/dist-packages (from cffi>=1.12->cryptography!=3.4.0,>=3.1->jwt) (2.21)\n",
            "Installing collected packages: jwt\n",
            "Successfully installed jwt-1.3.1\n"
          ]
        }
      ]
    },
    {
      "cell_type": "markdown",
      "source": [
        "스케듈 모듈 확인(작동 완료)\n",
        "다만 그린위치 시간대일 경우 -9시간 설정"
      ],
      "metadata": {
        "id": "u448LNxszS2_"
      }
    },
    {
      "cell_type": "code",
      "source": [
        "import schedule\n",
        "import time\n",
        "from datetime import datetime\n",
        "def Test():\n",
        "  print(\"hello\")\n",
        "schedule.every().day.at(\"13:43\").do(Test)\n",
        "\n",
        "now = datetime.now()\n",
        "print(now)\n",
        "while(1):\n",
        "  schedule.run_pending()\n",
        "  time.sleep(1)"
      ],
      "metadata": {
        "colab": {
          "base_uri": "https://localhost:8080/",
          "height": 246
        },
        "id": "kUk23B5wxgHI",
        "outputId": "d47dd314-0810-4cda-e121-b4bd11651bc9"
      },
      "execution_count": null,
      "outputs": [
        {
          "output_type": "stream",
          "name": "stdout",
          "text": [
            "2023-05-16 13:42:21.556385\n",
            "hello\n"
          ]
        },
        {
          "output_type": "error",
          "ename": "KeyboardInterrupt",
          "evalue": "ignored",
          "traceback": [
            "\u001b[0;31m---------------------------------------------------------------------------\u001b[0m",
            "\u001b[0;31mKeyboardInterrupt\u001b[0m                         Traceback (most recent call last)",
            "\u001b[0;32m<ipython-input-7-1ab21fe403f8>\u001b[0m in \u001b[0;36m<cell line: 10>\u001b[0;34m()\u001b[0m\n\u001b[1;32m     10\u001b[0m \u001b[0;32mwhile\u001b[0m\u001b[0;34m(\u001b[0m\u001b[0;36m1\u001b[0m\u001b[0;34m)\u001b[0m\u001b[0;34m:\u001b[0m\u001b[0;34m\u001b[0m\u001b[0;34m\u001b[0m\u001b[0m\n\u001b[1;32m     11\u001b[0m   \u001b[0mschedule\u001b[0m\u001b[0;34m.\u001b[0m\u001b[0mrun_pending\u001b[0m\u001b[0;34m(\u001b[0m\u001b[0;34m)\u001b[0m\u001b[0;34m\u001b[0m\u001b[0;34m\u001b[0m\u001b[0m\n\u001b[0;32m---> 12\u001b[0;31m   \u001b[0mtime\u001b[0m\u001b[0;34m.\u001b[0m\u001b[0msleep\u001b[0m\u001b[0;34m(\u001b[0m\u001b[0;36m1\u001b[0m\u001b[0;34m)\u001b[0m\u001b[0;34m\u001b[0m\u001b[0;34m\u001b[0m\u001b[0m\n\u001b[0m",
            "\u001b[0;31mKeyboardInterrupt\u001b[0m: "
          ]
        }
      ]
    },
    {
      "cell_type": "markdown",
      "source": [
        "업비트 매수 테스트 용\n"
      ],
      "metadata": {
        "id": "vu-WVa0E1Fhv"
      }
    },
    {
      "cell_type": "markdown",
      "source": [
        "colab ip\n",
        "\n",
        "124.54.88.236,\n",
        "13.114.132.81,\n",
        "34.68.123.148"
      ],
      "metadata": {
        "id": "RrKAKBdT4A0z"
      }
    },
    {
      "cell_type": "code",
      "source": [
        "!curl ipecho.net/plain"
      ],
      "metadata": {
        "colab": {
          "base_uri": "https://localhost:8080/"
        },
        "id": "jQqM2FkV3_g8",
        "outputId": "e03d708f-f8c9-4471-a320-0ee309f5b8bb"
      },
      "execution_count": null,
      "outputs": [
        {
          "output_type": "stream",
          "name": "stdout",
          "text": [
            "34.68.123.148"
          ]
        }
      ]
    },
    {
      "cell_type": "code",
      "source": [
        "!pip install pyupbit\n",
        "!pip install PyJWT"
      ],
      "metadata": {
        "colab": {
          "base_uri": "https://localhost:8080/"
        },
        "id": "OodJhAS-7yMX",
        "outputId": "8b97be52-bf35-434a-e6ab-25ac0b7b3b2e"
      },
      "execution_count": null,
      "outputs": [
        {
          "output_type": "stream",
          "name": "stdout",
          "text": [
            "Looking in indexes: https://pypi.org/simple, https://us-python.pkg.dev/colab-wheels/public/simple/\n",
            "Collecting pyupbit\n",
            "  Downloading pyupbit-0.2.33-py3-none-any.whl (24 kB)\n",
            "Collecting pyjwt>=2.0.0 (from pyupbit)\n",
            "  Downloading PyJWT-2.7.0-py3-none-any.whl (22 kB)\n",
            "Requirement already satisfied: pandas in /usr/local/lib/python3.10/dist-packages (from pyupbit) (1.5.3)\n",
            "Requirement already satisfied: requests in /usr/local/lib/python3.10/dist-packages (from pyupbit) (2.27.1)\n",
            "Collecting websockets (from pyupbit)\n",
            "  Downloading websockets-11.0.3-cp310-cp310-manylinux_2_5_x86_64.manylinux1_x86_64.manylinux_2_17_x86_64.manylinux2014_x86_64.whl (129 kB)\n",
            "\u001b[2K     \u001b[90m━━━━━━━━━━━━━━━━━━━━━━━━━━━━━━━━━━━━━━━\u001b[0m \u001b[32m129.9/129.9 kB\u001b[0m \u001b[31m3.6 MB/s\u001b[0m eta \u001b[36m0:00:00\u001b[0m\n",
            "\u001b[?25hRequirement already satisfied: python-dateutil>=2.8.1 in /usr/local/lib/python3.10/dist-packages (from pandas->pyupbit) (2.8.2)\n",
            "Requirement already satisfied: pytz>=2020.1 in /usr/local/lib/python3.10/dist-packages (from pandas->pyupbit) (2022.7.1)\n",
            "Requirement already satisfied: numpy>=1.21.0 in /usr/local/lib/python3.10/dist-packages (from pandas->pyupbit) (1.22.4)\n",
            "Requirement already satisfied: urllib3<1.27,>=1.21.1 in /usr/local/lib/python3.10/dist-packages (from requests->pyupbit) (1.26.15)\n",
            "Requirement already satisfied: certifi>=2017.4.17 in /usr/local/lib/python3.10/dist-packages (from requests->pyupbit) (2022.12.7)\n",
            "Requirement already satisfied: charset-normalizer~=2.0.0 in /usr/local/lib/python3.10/dist-packages (from requests->pyupbit) (2.0.12)\n",
            "Requirement already satisfied: idna<4,>=2.5 in /usr/local/lib/python3.10/dist-packages (from requests->pyupbit) (3.4)\n",
            "Requirement already satisfied: six>=1.5 in /usr/local/lib/python3.10/dist-packages (from python-dateutil>=2.8.1->pandas->pyupbit) (1.16.0)\n",
            "Installing collected packages: websockets, pyjwt, pyupbit\n",
            "Successfully installed pyjwt-2.7.0 pyupbit-0.2.33 websockets-11.0.3\n",
            "Looking in indexes: https://pypi.org/simple, https://us-python.pkg.dev/colab-wheels/public/simple/\n",
            "Requirement already satisfied: PyJWT in /usr/local/lib/python3.10/dist-packages (2.7.0)\n"
          ]
        }
      ]
    },
    {
      "cell_type": "code",
      "source": [
        "!pip uninstall jwt\n",
        "!pip uninstall PyJWT\n",
        "!pip install PyJWT"
      ],
      "metadata": {
        "colab": {
          "base_uri": "https://localhost:8080/",
          "height": 783
        },
        "id": "j8Hp5IYi8oCW",
        "outputId": "29b6c3cc-64d8-43fb-b984-df9916203862"
      },
      "execution_count": null,
      "outputs": [
        {
          "output_type": "stream",
          "name": "stdout",
          "text": [
            "Found existing installation: jwt 1.3.1\n",
            "Uninstalling jwt-1.3.1:\n",
            "  Would remove:\n",
            "    /usr/local/lib/python3.10/dist-packages/jwt-1.3.1.dist-info/*\n",
            "    /usr/local/lib/python3.10/dist-packages/jwt/*\n",
            "  Would not remove (might be manually added):\n",
            "    /usr/local/lib/python3.10/dist-packages/jwt/algorithms.py\n",
            "    /usr/local/lib/python3.10/dist-packages/jwt/api_jwk.py\n",
            "    /usr/local/lib/python3.10/dist-packages/jwt/api_jws.py\n",
            "    /usr/local/lib/python3.10/dist-packages/jwt/api_jwt.py\n",
            "    /usr/local/lib/python3.10/dist-packages/jwt/help.py\n",
            "    /usr/local/lib/python3.10/dist-packages/jwt/jwk_set_cache.py\n",
            "    /usr/local/lib/python3.10/dist-packages/jwt/jwks_client.py\n",
            "    /usr/local/lib/python3.10/dist-packages/jwt/types.py\n",
            "    /usr/local/lib/python3.10/dist-packages/jwt/warnings.py\n",
            "Proceed (Y/n)? y\n",
            "  Successfully uninstalled jwt-1.3.1\n",
            "Found existing installation: PyJWT 2.7.0\n",
            "Uninstalling PyJWT-2.7.0:\n",
            "  Would remove:\n",
            "    /usr/local/lib/python3.10/dist-packages/PyJWT-2.7.0.dist-info/*\n",
            "    /usr/local/lib/python3.10/dist-packages/jwt/algorithms.py\n",
            "    /usr/local/lib/python3.10/dist-packages/jwt/api_jwk.py\n",
            "    /usr/local/lib/python3.10/dist-packages/jwt/api_jws.py\n",
            "    /usr/local/lib/python3.10/dist-packages/jwt/api_jwt.py\n",
            "    /usr/local/lib/python3.10/dist-packages/jwt/help.py\n",
            "    /usr/local/lib/python3.10/dist-packages/jwt/jwk_set_cache.py\n",
            "    /usr/local/lib/python3.10/dist-packages/jwt/jwks_client.py\n",
            "    /usr/local/lib/python3.10/dist-packages/jwt/types.py\n",
            "    /usr/local/lib/python3.10/dist-packages/jwt/warnings.py\n",
            "Proceed (Y/n)? y\n",
            "  Successfully uninstalled PyJWT-2.7.0\n",
            "Looking in indexes: https://pypi.org/simple, https://us-python.pkg.dev/colab-wheels/public/simple/\n",
            "Collecting PyJWT\n",
            "  Using cached PyJWT-2.7.0-py3-none-any.whl (22 kB)\n",
            "Installing collected packages: PyJWT\n",
            "Successfully installed PyJWT-2.7.0\n"
          ]
        },
        {
          "output_type": "display_data",
          "data": {
            "application/vnd.colab-display-data+json": {
              "pip_warning": {
                "packages": [
                  "jwt"
                ]
              }
            }
          },
          "metadata": {}
        }
      ]
    },
    {
      "cell_type": "code",
      "source": [],
      "metadata": {
        "id": "U5IOUy9llUwc"
      },
      "execution_count": null,
      "outputs": []
    }
  ]
}